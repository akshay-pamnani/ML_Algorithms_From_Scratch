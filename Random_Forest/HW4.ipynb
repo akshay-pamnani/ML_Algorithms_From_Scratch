{
 "cells": [
  {
   "cell_type": "code",
   "execution_count": 963,
   "metadata": {},
   "outputs": [],
   "source": [
    "\n",
    "import numpy as np\n",
    "from sklearn.utils import resample\n",
    "\n",
    "from dtree import *\n",
    "\n",
    "class RandomForest621:\n",
    "    def __init__(self, n_estimators=10, oob_score=False,min_samples_leaf=3,max_features=0.3):\n",
    "        self.n_estimators = n_estimators\n",
    "        self.oob_score = oob_score\n",
    "        self.oob_score_ = np.nan\n",
    "        self.min_samples_leaf=min_samples_leaf\n",
    "        self.max_features=max_features\n",
    "        self.trees=[]\n",
    "\n",
    "    def compute_oob_score(self,X,y):\n",
    "\n",
    "        oob_index_values={key:[] for key in range(len(X))}\n",
    "        oob_index_preds={}\n",
    "        \n",
    "        if isinstance(self, RandomForestRegressor621):\n",
    "\n",
    "            for tree in self.trees:\n",
    "            \n",
    "           \n",
    "\n",
    "                oob_predictions_leaves=tree.predict(X[tree.oob_index])\n",
    "                oob_predictions=[leaf.prediction for leaf in oob_predictions_leaves]\n",
    "\n",
    "                for i in range(len(oob_predictions)):\n",
    "                \n",
    "                    index=tree.oob_index[i]\n",
    "\n",
    "                    oob_index_values[index].append(oob_predictions[i])\n",
    "\n",
    "        #loss = self.trees[0].loss\n",
    "        #loss(y)\n",
    "            for i in range(len(X)):\n",
    "                oob_index_preds[i]=np.mean(oob_index_values[i])\n",
    "\n",
    "            #Have to deal with missing values\n",
    "            \n",
    "            oob_predictions=list(oob_index_preds.values())\n",
    "            oob_predictions=np.array(oob_predictions)\n",
    "            oob_predictions=oob_predictions[np.where(~np.isnan(oob_predictions))[0]]\n",
    "            y_filtered=y[np.where(~np.isnan(oob_predictions))[0]]\n",
    "        #arr[np.where(~np.isnan(test_lis))[0]]\n",
    "\n",
    "\n",
    "            return r2_score(y_filtered,oob_predictions)\n",
    "        \n",
    "        \n",
    "        elif isinstance(self, RandomForestClassifier621):\n",
    "            \n",
    "                for tree in self.trees:\n",
    "        \n",
    "                    oob_predictions_leaves=tree.predict(X[tree.oob_index])\n",
    "                    oob_predictions=[leaf.prediction[0] for leaf in oob_predictions_leaves]\n",
    "\n",
    "                    for i in range(len(oob_predictions)):\n",
    "                \n",
    "                        index=tree.oob_index[i]\n",
    "\n",
    "                        oob_index_values[index].append(oob_predictions[i])\n",
    "\n",
    "        #loss = self.trees[0].loss\n",
    "        #loss(y)\n",
    "                for i in range(len(X)):\n",
    "                    #stats.mode(rf.oob_score_[0])[0][0]\n",
    "                    oob_index_preds[i]=stats.mode(oob_index_values[i])[0]\n",
    "\n",
    "            #Have to deal with missing values\n",
    "            \n",
    "                oob_predictions=list(oob_index_preds.values())\n",
    "                oob_predictions=np.concatenate(oob_predictions)\n",
    "                #oob_predictions=[oob_predictions[k][0] for k in range(len(X_train))]\n",
    "                oob_predictions=np.array(oob_predictions)\n",
    "                oob_predictions=oob_predictions[np.where(~np.isnan(oob_predictions))[0]]\n",
    "                y_filtered=y[np.where(~np.isnan(oob_predictions))[0]]\n",
    "        #arr[np.where(~np.isnan(test_lis))[0]]\n",
    "                #return oob_index_values\n",
    "                #return oob_predictions\n",
    "                return accuracy_score(y_filtered,oob_predictions)\n",
    "    def fit(self, X, y):\n",
    "        \"\"\"\n",
    "        Given an (X, y) training set, fit all n_estimators trees to different,\n",
    "        bootstrapped versions of the training data.  Keep track of the indexes of\n",
    "        the OOB records for each tree.  After fitting all of the trees in the forest,\n",
    "        compute the OOB validation score estimate and store as self.oob_score_, to\n",
    "        mimic sklearn.\n",
    "        \"\"\"\n",
    "\n",
    "        oob_index_dict={}\n",
    "        trees_dict={}\n",
    "\n",
    "        for i in range(self.n_estimators):\n",
    "            n = len(y)\n",
    "            idx = np.random.randint(0, n, size = n)\n",
    "            X_train = X[idx]\n",
    "            y_train = y[idx]\n",
    "            oob_index=np.array([i for i in range(len(X)) if i not in idx])\n",
    "            #oob_index_dict[i]=oob_index\n",
    "            if isinstance(self, RandomForestRegressor621):\n",
    "                tree=RegressionTree621(self.min_samples_leaf, self.max_features, oob_index)\n",
    "                tree.fit(X_train,y_train)\n",
    "            #trees_dict[i]=tree\n",
    "                self.trees.append(tree)\n",
    "                if self.oob_score==True:\n",
    "                    self.oob_score_=self.compute_oob_score(X,y)\n",
    "\n",
    "            elif isinstance(self, RandomForestClassifier621):\n",
    "                tree=ClassifierTree621(self.min_samples_leaf, self.max_features, oob_index)\n",
    "                tree.fit(X_train,y_train)\n",
    "                self.trees.append(tree)\n",
    "                if self.oob_score==True:\n",
    "                    self.oob_score_=self.compute_oob_score(X,y)\n",
    "                #self.oob_score_=self.compute_oob_score(self,X,y)\n",
    "\n",
    "class RandomForestRegressor621(RandomForest621):\n",
    "    def __init__(self, n_estimators=10, min_samples_leaf=3, \n",
    "    max_features=0.3, oob_score=False):\n",
    "        super().__init__(n_estimators, oob_score=oob_score, min_samples_leaf=min_samples_leaf, max_features=max_features)\n",
    "        #self.trees = ...\n",
    "\n",
    "    def predict(self, X_test) -> np.ndarray:\n",
    "        \"\"\"\n",
    "        Given a 2D nxp array with one or more records, compute the weighted average\n",
    "        prediction from all trees in this forest. Weight each trees prediction by\n",
    "        the number of observations in the leaf making that prediction.  Return a 1D vector\n",
    "        with the predictions for each input record of X_test.\n",
    "        \"\"\"\n",
    "        \n",
    "        prediction_leaves=[]\n",
    "        weighted_predictions=[]\n",
    "        count_leaves=[]\n",
    "\n",
    "        for tree in self.trees:\n",
    "\n",
    "            leaves=tree.predict(X_test)\n",
    "            prediction_leaves.append(leaves)\n",
    "\n",
    "\n",
    "\n",
    "        for i in range(self.n_estimators):\n",
    "\n",
    "            weighted_predictions.append([leaf.prediction*leaf.n for leaf in prediction_leaves[i]])\n",
    "            count_leaves.append([leaf.n for leaf in prediction_leaves[i]])\n",
    "\n",
    "        weighted_arr=np.array(weighted_predictions)\n",
    "        weighted_pred_sum=np.sum(weighted_arr,axis=0)\n",
    "        count_leaves_arr=np.array(count_leaves)\n",
    "        leaves_sum_count=np.sum(count_leaves_arr,axis=0)\n",
    "\n",
    "        final_prediction_array=weighted_pred_sum/leaves_sum_count\n",
    "\n",
    "        return final_prediction_array\n",
    "    \n",
    "      \n",
    "    def score(self, X_test, y_test) -> float:\n",
    "        \"\"\"\n",
    "        Given a 2D nxp X_test array and 1D nx1 y_test array with one or more records,\n",
    "        collect the prediction for each record and then compute R^2 on that and y_test.\n",
    "        \"\"\"\n",
    "        y_pred = self.predict(X_test)\n",
    "        return r2_score(y_test, y_pred)\n",
    "        \n",
    "class RandomForestClassifier621(RandomForest621):\n",
    "    def __init__(self, n_estimators=10, min_samples_leaf=3, \n",
    "    max_features=0.3, oob_score=False):\n",
    "        super().__init__(n_estimators, oob_score=oob_score)\n",
    "        n_estimators = n_estimators\n",
    "        self.min_samples_leaf = min_samples_leaf\n",
    "        #self.trees = ...\n",
    "\n",
    "    def predict(self, X_test) -> np.ndarray:\n",
    "        \n",
    "        prediction_leaves=[]\n",
    "        #weighted_predictions=[]\n",
    "        #count_leaves=[]\n",
    "        list_y_vals=[]\n",
    "        final_list=[]\n",
    "\n",
    "        for tree in self.trees:\n",
    "\n",
    "            leaves=tree.predict(X_test)\n",
    "            prediction_leaves.append(leaves)\n",
    "            \n",
    "        \n",
    "\n",
    "        for i in range(self.n_estimators):\n",
    "\n",
    "            list_y_vals.append([leaf.y_vals for leaf in prediction_leaves[i]])\n",
    "            \n",
    "        for j in range(len(X_test)):\n",
    "\n",
    "\n",
    "            final_list.append(np.concatenate([list_y_vals[i][j] for i in range(self.n_estimators)]))\n",
    "            \n",
    "           \n",
    "        return np.array([stats.mode(final_list[i])[0][0] for i in range(len(X_test))])\n",
    "        \n",
    "        \n",
    "    def score(self, X_test, y_test) -> float:\n",
    "        \"\"\"\n",
    "        Given a 2D nxp X_test array and 1D nx1 y_test array with one or more records,\n",
    "        collect the predicted class for each record and then compute accuracy between\n",
    "        that and y_test.\n",
    "        \"\"\"\n",
    "        \n",
    "        y_pred = self.predict(X_test)\n",
    "        return accuracy_score(y_test, y_pred)\n",
    "        "
   ]
  },
  {
   "cell_type": "code",
   "execution_count": 964,
   "metadata": {},
   "outputs": [],
   "source": [
    "import numpy as np\n",
    "from sklearn.datasets import \\\n",
    "    load_boston, load_iris, load_diabetes, load_wine, \\\n",
    "    load_breast_cancer, fetch_california_housing\n",
    "from sklearn.ensemble import RandomForestRegressor, RandomForestClassifier\n",
    "from sklearn.model_selection import train_test_split\n",
    "import inspect\n",
    "\n",
    "#X, y = load_boston(return_X_y=True)"
   ]
  },
  {
   "cell_type": "code",
   "execution_count": 965,
   "metadata": {},
   "outputs": [
    {
     "data": {
      "text/plain": [
       "2"
      ]
     },
     "execution_count": 965,
     "metadata": {},
     "output_type": "execute_result"
    }
   ],
   "source": [
    "stats.mode([1,1,2,2,2])[0][0]"
   ]
  },
  {
   "cell_type": "code",
   "execution_count": 966,
   "metadata": {},
   "outputs": [],
   "source": [
    "\n",
    "#X, y = load_wine(return_X_y=True)\n",
    "X, y = load_boston(return_X_y=True)\n",
    "#X, y = load_diabetes(return_X_y=True)\n"
   ]
  },
  {
   "cell_type": "code",
   "execution_count": 967,
   "metadata": {},
   "outputs": [],
   "source": [
    "X_train, X_test, y_train, y_test = \\\n",
    "            train_test_split(X, y, test_size=0.20)"
   ]
  },
  {
   "cell_type": "code",
   "execution_count": 968,
   "metadata": {},
   "outputs": [],
   "source": [
    "min_samples_leaf=3\n",
    "max_features=0.3\n",
    "oob=True\n",
    "n_estimators=18\n"
   ]
  },
  {
   "cell_type": "code",
   "execution_count": null,
   "metadata": {},
   "outputs": [],
   "source": []
  },
  {
   "cell_type": "code",
   "execution_count": 969,
   "metadata": {},
   "outputs": [],
   "source": [
    "#rf = RandomForestClassifier621(n_estimators=n_estimators, min_samples_leaf=min_samples_leaf, max_features=max_features, oob_score=oob)\n",
    "rf= RandomForestRegressor621(n_estimators=n_estimators, min_samples_leaf=min_samples_leaf, max_features=max_features, oob_score=oob)"
   ]
  },
  {
   "cell_type": "code",
   "execution_count": 970,
   "metadata": {},
   "outputs": [
    {
     "name": "stderr",
     "output_type": "stream",
     "text": [
      "/Users/akshaypamnani/opt/anaconda3/lib/python3.9/site-packages/numpy/core/fromnumeric.py:3440: RuntimeWarning: Mean of empty slice.\n",
      "  return _methods._mean(a, axis=axis, dtype=dtype,\n",
      "/Users/akshaypamnani/opt/anaconda3/lib/python3.9/site-packages/numpy/core/_methods.py:189: RuntimeWarning: invalid value encountered in double_scalars\n",
      "  ret = ret.dtype.type(ret / rcount)\n",
      "/Users/akshaypamnani/opt/anaconda3/lib/python3.9/site-packages/numpy/core/fromnumeric.py:3440: RuntimeWarning: Mean of empty slice.\n",
      "  return _methods._mean(a, axis=axis, dtype=dtype,\n",
      "/Users/akshaypamnani/opt/anaconda3/lib/python3.9/site-packages/numpy/core/_methods.py:189: RuntimeWarning: invalid value encountered in double_scalars\n",
      "  ret = ret.dtype.type(ret / rcount)\n",
      "/Users/akshaypamnani/opt/anaconda3/lib/python3.9/site-packages/numpy/core/fromnumeric.py:3440: RuntimeWarning: Mean of empty slice.\n",
      "  return _methods._mean(a, axis=axis, dtype=dtype,\n",
      "/Users/akshaypamnani/opt/anaconda3/lib/python3.9/site-packages/numpy/core/_methods.py:189: RuntimeWarning: invalid value encountered in double_scalars\n",
      "  ret = ret.dtype.type(ret / rcount)\n",
      "/Users/akshaypamnani/opt/anaconda3/lib/python3.9/site-packages/numpy/core/fromnumeric.py:3440: RuntimeWarning: Mean of empty slice.\n",
      "  return _methods._mean(a, axis=axis, dtype=dtype,\n",
      "/Users/akshaypamnani/opt/anaconda3/lib/python3.9/site-packages/numpy/core/_methods.py:189: RuntimeWarning: invalid value encountered in double_scalars\n",
      "  ret = ret.dtype.type(ret / rcount)\n",
      "/Users/akshaypamnani/opt/anaconda3/lib/python3.9/site-packages/numpy/core/fromnumeric.py:3440: RuntimeWarning: Mean of empty slice.\n",
      "  return _methods._mean(a, axis=axis, dtype=dtype,\n",
      "/Users/akshaypamnani/opt/anaconda3/lib/python3.9/site-packages/numpy/core/_methods.py:189: RuntimeWarning: invalid value encountered in double_scalars\n",
      "  ret = ret.dtype.type(ret / rcount)\n",
      "/Users/akshaypamnani/opt/anaconda3/lib/python3.9/site-packages/numpy/core/fromnumeric.py:3440: RuntimeWarning: Mean of empty slice.\n",
      "  return _methods._mean(a, axis=axis, dtype=dtype,\n",
      "/Users/akshaypamnani/opt/anaconda3/lib/python3.9/site-packages/numpy/core/_methods.py:189: RuntimeWarning: invalid value encountered in double_scalars\n",
      "  ret = ret.dtype.type(ret / rcount)\n",
      "/Users/akshaypamnani/opt/anaconda3/lib/python3.9/site-packages/numpy/core/fromnumeric.py:3440: RuntimeWarning: Mean of empty slice.\n",
      "  return _methods._mean(a, axis=axis, dtype=dtype,\n",
      "/Users/akshaypamnani/opt/anaconda3/lib/python3.9/site-packages/numpy/core/_methods.py:189: RuntimeWarning: invalid value encountered in double_scalars\n",
      "  ret = ret.dtype.type(ret / rcount)\n",
      "/Users/akshaypamnani/opt/anaconda3/lib/python3.9/site-packages/numpy/core/fromnumeric.py:3440: RuntimeWarning: Mean of empty slice.\n",
      "  return _methods._mean(a, axis=axis, dtype=dtype,\n",
      "/Users/akshaypamnani/opt/anaconda3/lib/python3.9/site-packages/numpy/core/_methods.py:189: RuntimeWarning: invalid value encountered in double_scalars\n",
      "  ret = ret.dtype.type(ret / rcount)\n",
      "/Users/akshaypamnani/opt/anaconda3/lib/python3.9/site-packages/numpy/core/fromnumeric.py:3440: RuntimeWarning: Mean of empty slice.\n",
      "  return _methods._mean(a, axis=axis, dtype=dtype,\n",
      "/Users/akshaypamnani/opt/anaconda3/lib/python3.9/site-packages/numpy/core/_methods.py:189: RuntimeWarning: invalid value encountered in double_scalars\n",
      "  ret = ret.dtype.type(ret / rcount)\n",
      "/Users/akshaypamnani/opt/anaconda3/lib/python3.9/site-packages/numpy/core/fromnumeric.py:3440: RuntimeWarning: Mean of empty slice.\n",
      "  return _methods._mean(a, axis=axis, dtype=dtype,\n",
      "/Users/akshaypamnani/opt/anaconda3/lib/python3.9/site-packages/numpy/core/_methods.py:189: RuntimeWarning: invalid value encountered in double_scalars\n",
      "  ret = ret.dtype.type(ret / rcount)\n",
      "/Users/akshaypamnani/opt/anaconda3/lib/python3.9/site-packages/numpy/core/fromnumeric.py:3440: RuntimeWarning: Mean of empty slice.\n",
      "  return _methods._mean(a, axis=axis, dtype=dtype,\n",
      "/Users/akshaypamnani/opt/anaconda3/lib/python3.9/site-packages/numpy/core/_methods.py:189: RuntimeWarning: invalid value encountered in double_scalars\n",
      "  ret = ret.dtype.type(ret / rcount)\n",
      "/Users/akshaypamnani/opt/anaconda3/lib/python3.9/site-packages/numpy/core/fromnumeric.py:3440: RuntimeWarning: Mean of empty slice.\n",
      "  return _methods._mean(a, axis=axis, dtype=dtype,\n",
      "/Users/akshaypamnani/opt/anaconda3/lib/python3.9/site-packages/numpy/core/_methods.py:189: RuntimeWarning: invalid value encountered in double_scalars\n",
      "  ret = ret.dtype.type(ret / rcount)\n",
      "/Users/akshaypamnani/opt/anaconda3/lib/python3.9/site-packages/numpy/core/fromnumeric.py:3440: RuntimeWarning: Mean of empty slice.\n",
      "  return _methods._mean(a, axis=axis, dtype=dtype,\n",
      "/Users/akshaypamnani/opt/anaconda3/lib/python3.9/site-packages/numpy/core/_methods.py:189: RuntimeWarning: invalid value encountered in double_scalars\n",
      "  ret = ret.dtype.type(ret / rcount)\n"
     ]
    }
   ],
   "source": [
    "rf.fit(X_train, y_train)"
   ]
  },
  {
   "cell_type": "raw",
   "metadata": {},
   "source": [
    "rf.trees"
   ]
  },
  {
   "cell_type": "code",
   "execution_count": 971,
   "metadata": {},
   "outputs": [
    {
     "data": {
      "text/plain": [
       "404"
      ]
     },
     "execution_count": 971,
     "metadata": {},
     "output_type": "execute_result"
    }
   ],
   "source": [
    "len(X_train)"
   ]
  },
  {
   "cell_type": "code",
   "execution_count": 972,
   "metadata": {},
   "outputs": [
    {
     "data": {
      "text/plain": [
       "0.8050437805213196"
      ]
     },
     "execution_count": 972,
     "metadata": {},
     "output_type": "execute_result"
    }
   ],
   "source": [
    "rf.oob_score_"
   ]
  },
  {
   "cell_type": "code",
   "execution_count": 962,
   "metadata": {},
   "outputs": [],
   "source": [
    "arr=np.array(test_lis)"
   ]
  },
  {
   "cell_type": "code",
   "execution_count": 788,
   "metadata": {},
   "outputs": [
    {
     "data": {
      "text/plain": [
       "array([13.31844778, 29.58809524, 34.93125   , 18.87104377, 22.88666667,\n",
       "       16.97      , 15.75647118, 20.23875   , 22.60888889, 11.94300977,\n",
       "       10.32252976, 21.55833333, 23.0475    , 31.53388889, 15.06111111,\n",
       "       24.24220238, 15.35588235, 24.71866667, 46.75833333, 20.24266667,\n",
       "       33.16857143, 22.521875  , 10.24708333, 17.77708333, 27.25277778,\n",
       "       18.89194444, 25.99919643, 25.175     , 19.943     , 16.59307692,\n",
       "       19.91547619, 17.421875  , 16.25066667, 14.93731041, 18.84444444,\n",
       "       12.8127381 , 21.35708333, 20.85833333, 21.53222222, 23.32404762,\n",
       "       22.60777778, 20.86283333, 20.87645833, 28.95944444, 20.1743075 ,\n",
       "       36.52666667, 14.29068783, 26.84166667, 25.55431973, 23.47733333,\n",
       "       35.84541667, 17.34495238, 21.82642857, 18.99916667, 18.46233333,\n",
       "       20.96154321, 20.695     , 15.885     ,  8.205     , 37.71142857,\n",
       "       16.19161111, 23.88541667, 14.65444919, 25.38772727, 18.89333333,\n",
       "       31.31166667, 22.90805556, 20.4055102 , 25.46566667, 23.94555556,\n",
       "       22.40833333, 18.03833333, 31.39791667, 15.437     , 11.25846154,\n",
       "       19.57694444, 11.3373545 , 40.3425    , 19.79375   , 17.43472222,\n",
       "       19.78194444, 32.325     , 14.59388889, 21.04356481, 28.18      ,\n",
       "       26.62761905, 12.47741497, 21.19166667, 20.20796296, 23.22193878,\n",
       "       31.486875  , 15.66668498, 20.46809524, 21.00238095, 38.895     ,\n",
       "       20.07833333, 20.2175    , 19.89166667, 25.79679487, 19.75      ,\n",
       "       20.2953121 , 38.45047619, 13.96095238, 19.51698413, 20.9309375 ,\n",
       "       10.87066667, 19.34266667, 23.07666667, 20.83842593, 22.54285714,\n",
       "       20.60166667, 22.26333333, 16.16047619, 21.64537037, 23.34047619,\n",
       "       23.46      , 20.974375  , 15.36677323, 21.24861111, 23.605     ,\n",
       "       19.46166667, 14.98371212, 29.8675    , 15.8745    , 22.30666667,\n",
       "       41.94533333, 45.65333333, 29.17738095, 15.73656085, 17.825     ,\n",
       "       32.82916667, 21.04404762, 26.50520833, 15.0075    , 34.71428571,\n",
       "       23.03559524, 16.9175    , 15.804     , 20.89166667, 20.05766667,\n",
       "       42.14933333, 19.4971875 , 22.23083333, 25.21448413, 21.67395833,\n",
       "       18.04575758, 12.90068182, 18.10520833, 20.49333333, 15.59660765,\n",
       "       31.04      , 21.19875   , 23.386875  , 20.44380952, 17.71571429,\n",
       "       21.76190476, 11.78571429, 21.96888889, 25.90611111, 21.485     ,\n",
       "       40.76138889, 39.10555556, 20.5730754 , 41.32642857, 25.45777778,\n",
       "       10.79301587, 12.58303571, 26.27029101,  9.79707875,  9.53670068,\n",
       "       20.22738095, 23.46944444, 16.66547619, 12.63088803, 14.63466667,\n",
       "       22.56891534, 19.51912698, 18.70445076, 16.04375   , 13.98277778,\n",
       "       32.27222222, 19.965     , 39.56666667, 31.30416667, 13.67944444,\n",
       "       22.38833333, 21.63546537, 20.11479167, 31.73055556, 13.71457143,\n",
       "       43.02388889, 21.24583333, 17.24854109, 24.36666667, 13.45238095,\n",
       "       17.23141002, 20.28666667, 20.27661036, 16.96833333, 14.89316667,\n",
       "       10.9272619 , 22.83738095, 20.98066667, 22.88111111, 24.58462585,\n",
       "       27.78238095, 18.63484848, 26.82708333, 21.64513889, 17.64140212,\n",
       "       17.79434524, 33.94080087, 21.44233333, 25.0337037 , 25.78285714,\n",
       "       24.28439394, 17.24229167, 22.22166667, 35.72666667, 33.27958333,\n",
       "       22.58958333, 40.95642857, 19.682     , 26.96      , 40.321     ,\n",
       "       17.78833333, 17.34759259, 29.44285714, 46.68777778, 21.79027778,\n",
       "       25.60444444, 30.20962963, 30.64592593, 22.44902381, 19.4375    ,\n",
       "       21.43533333, 30.37866667, 20.61625   , 12.3052381 , 38.34055556,\n",
       "       15.21988095, 13.26936937, 19.53214286, 12.93392857, 20.42333333,\n",
       "       19.35345238, 16.88415179, 21.82148148, 19.46212121, 40.86716667,\n",
       "       29.32791667, 15.77966667, 13.64892857, 21.14533333, 19.9197619 ,\n",
       "       23.64333333, 19.69145833, 15.348125  , 22.221     , 20.87166667,\n",
       "       18.50255411, 22.19805556, 32.12761905, 29.01166667, 18.725     ,\n",
       "       17.33096591, 25.22472222, 15.95066667, 21.97016667, 16.90669643,\n",
       "       20.34861111, 26.99791667, 16.99118154, 22.92291667, 34.86142857,\n",
       "       19.79791667, 41.96555556, 21.49166667, 24.53904762, 10.01006381,\n",
       "       32.56142857, 26.83142857, 13.22438889, 21.91333333, 27.91642857,\n",
       "       15.62435877, 36.11020833, 40.64314815, 32.168     , 33.38333333,\n",
       "       19.00666667, 16.27444444, 29.71770833, 22.8556229 , 23.98      ,\n",
       "       20.83055556, 16.72873016, 16.68333333, 16.65      , 36.43375   ,\n",
       "       28.18136364, 21.1172619 , 34.87777778, 18.54666667, 16.53186937,\n",
       "       13.84125   , 21.35666667, 21.37619048, 22.05404762, 21.96527778,\n",
       "       15.94929752, 23.46444444, 23.11690476, 19.92416667, 19.09333333,\n",
       "       14.710625  , 13.89      , 21.20648148, 19.79683333, 22.65083333,\n",
       "       13.92708333, 14.88414966, 24.92263605, 14.4397619 , 28.336     ,\n",
       "       25.80866667, 33.86166667, 11.04412698, 42.18833333, 29.09066667,\n",
       "       19.37583333, 21.91933333,  9.42874176, 24.95      , 14.51039683,\n",
       "       38.21555556, 36.26111111, 23.4952381 , 19.54923611, 12.77829794,\n",
       "       20.96633333, 27.38611111, 46.47416667, 11.89468864, 12.49320706,\n",
       "        9.76142758, 18.34566667, 19.06215278, 10.39966667, 14.17098639,\n",
       "       20.13038462, 11.01123932, 37.01777778, 22.27833333, 35.68972222,\n",
       "       19.27166667, 18.634375  , 15.22396825, 17.58621212, 10.41791209,\n",
       "       39.55416667, 11.11016484, 20.23717687, 18.95642857, 23.29047619,\n",
       "       22.25402778, 20.52611111, 15.47635269, 14.77914286, 19.        ,\n",
       "        9.9054359 , 24.32708333, 22.96891534, 21.17916667, 23.895     ,\n",
       "       23.77      , 23.29      , 20.17833333, 27.50357143, 19.50444444,\n",
       "       31.68833333, 26.38154762, 14.81125   , 33.06404762, 18.35      ,\n",
       "       48.017     , 23.39351852, 17.49166667, 28.735     , 33.64083333,\n",
       "       14.8730303 , 22.1027381 , 11.16115123, 26.32733333, 18.58669386,\n",
       "       32.42833333, 37.446875  , 17.526     , 16.15055556, 23.51027778,\n",
       "       18.585     , 24.83333333, 11.33346154, 21.67712121])"
      ]
     },
     "execution_count": 788,
     "metadata": {},
     "output_type": "execute_result"
    }
   ],
   "source": [
    "arr[np.where(~np.isnan(test_lis))[0]]\n"
   ]
  },
  {
   "cell_type": "code",
   "execution_count": 411,
   "metadata": {},
   "outputs": [
    {
     "data": {
      "text/plain": [
       "13.318447783447784"
      ]
     },
     "execution_count": 411,
     "metadata": {},
     "output_type": "execute_result"
    }
   ],
   "source": [
    "test_lis[0]"
   ]
  },
  {
   "cell_type": "code",
   "execution_count": 434,
   "metadata": {},
   "outputs": [
    {
     "ename": "TypeError",
     "evalue": "list indices must be integers or slices, not list",
     "output_type": "error",
     "traceback": [
      "\u001b[0;31m---------------------------------------------------------------------------\u001b[0m",
      "\u001b[0;31mTypeError\u001b[0m                                 Traceback (most recent call last)",
      "Input \u001b[0;32mIn [434]\u001b[0m, in \u001b[0;36m<cell line: 1>\u001b[0;34m()\u001b[0m\n\u001b[0;32m----> 1\u001b[0m \u001b[43mtest_lis\u001b[49m\u001b[43m[\u001b[49m\u001b[43mlis\u001b[49m\u001b[43m]\u001b[49m\n",
      "\u001b[0;31mTypeError\u001b[0m: list indices must be integers or slices, not list"
     ]
    }
   ],
   "source": [
    "test_lis[lis]\n",
    "        #y_filtered=y[np.where(~np.isnan(oob_predictions))]"
   ]
  },
  {
   "cell_type": "code",
   "execution_count": 424,
   "metadata": {},
   "outputs": [],
   "source": [
    "indices=np.where(~np.isnan(test_lis))[0]\n"
   ]
  },
  {
   "cell_type": "code",
   "execution_count": null,
   "metadata": {},
   "outputs": [],
   "source": []
  },
  {
   "cell_type": "code",
   "execution_count": 365,
   "metadata": {},
   "outputs": [
    {
     "data": {
      "text/plain": [
       "array([  0,   2,   4,   6,  12,  13,  15,  18,  28,  33,  35,  40,  41,\n",
       "        42,  48,  50,  51,  52,  54,  59,  62,  63,  64,  65,  66,  69,\n",
       "        70,  71,  74,  75,  76,  78,  79,  80,  81,  93,  94,  97,  98,\n",
       "        99, 100, 103, 104, 105, 107, 109, 110, 112, 119, 122, 123, 125,\n",
       "       130, 131, 137, 145, 146, 152, 154, 156, 158, 160, 161, 165, 166,\n",
       "       171, 184, 185, 189, 193, 196, 199, 200, 203, 208, 209, 213, 215,\n",
       "       220, 225, 231, 235, 237, 239, 241, 244, 251, 258, 261, 263, 273,\n",
       "       274, 275, 279, 280, 281, 284, 285, 286, 287, 289, 292, 294, 298,\n",
       "       299, 300, 303, 307, 310, 311, 313, 315, 316, 317, 319, 323, 327,\n",
       "       330, 333, 334, 340, 341, 342, 343, 344, 346, 348, 349, 351, 353,\n",
       "       357, 358, 359, 361, 368, 370, 374, 377, 379, 385, 387, 393, 398,\n",
       "       401])"
      ]
     },
     "execution_count": 365,
     "metadata": {},
     "output_type": "execute_result"
    }
   ],
   "source": [
    "rf.trees[0].oob_index"
   ]
  },
  {
   "cell_type": "code",
   "execution_count": 355,
   "metadata": {},
   "outputs": [
    {
     "ename": "TypeError",
     "evalue": "'int' object is not iterable",
     "output_type": "error",
     "traceback": [
      "\u001b[0;31m---------------------------------------------------------------------------\u001b[0m",
      "\u001b[0;31mTypeError\u001b[0m                                 Traceback (most recent call last)",
      "Input \u001b[0;32mIn [355]\u001b[0m, in \u001b[0;36m<cell line: 1>\u001b[0;34m()\u001b[0m\n\u001b[0;32m----> 1\u001b[0m \u001b[43mrf\u001b[49m\u001b[38;5;241;43m.\u001b[39;49m\u001b[43mcompute_oob_score\u001b[49m\u001b[43m(\u001b[49m\u001b[43mX_train\u001b[49m\u001b[43m,\u001b[49m\u001b[43my_train\u001b[49m\u001b[43m)\u001b[49m\n",
      "Input \u001b[0;32mIn [338]\u001b[0m, in \u001b[0;36mRandomForest621.compute_oob_score\u001b[0;34m(self, X, y)\u001b[0m\n\u001b[1;32m     20\u001b[0m \u001b[38;5;28;01mfor\u001b[39;00m tree \u001b[38;5;129;01min\u001b[39;00m \u001b[38;5;28mself\u001b[39m\u001b[38;5;241m.\u001b[39mtrees:\n\u001b[1;32m     22\u001b[0m     oob_predictions\u001b[38;5;241m=\u001b[39mtree\u001b[38;5;241m.\u001b[39mpredict(X[tree\u001b[38;5;241m.\u001b[39moob_index])\n\u001b[0;32m---> 24\u001b[0m     \u001b[38;5;28;01mfor\u001b[39;00m i \u001b[38;5;129;01min\u001b[39;00m \u001b[38;5;28mlen\u001b[39m(oob_predictions):\n\u001b[1;32m     26\u001b[0m         index\u001b[38;5;241m=\u001b[39mtree\u001b[38;5;241m.\u001b[39moob_index[i]\n\u001b[1;32m     28\u001b[0m         oob_index_values[index]\u001b[38;5;241m.\u001b[39mappend(oob_predictions[i])\n",
      "\u001b[0;31mTypeError\u001b[0m: 'int' object is not iterable"
     ]
    }
   ],
   "source": [
    "rf.compute_oob_score(X_train,y_train)"
   ]
  },
  {
   "cell_type": "code",
   "execution_count": 345,
   "metadata": {},
   "outputs": [],
   "source": [
    "leaves_arr=rf.predict(X_test)\n",
    "\n",
    "\n",
    "\n",
    "\n"
   ]
  },
  {
   "cell_type": "code",
   "execution_count": 346,
   "metadata": {},
   "outputs": [
    {
     "name": "stdout",
     "output_type": "stream",
     "text": [
      "(2, 89)\n"
     ]
    }
   ],
   "source": [
    "leaves_arr_2=rf.predict2(X_test)"
   ]
  },
  {
   "cell_type": "code",
   "execution_count": 347,
   "metadata": {},
   "outputs": [
    {
     "data": {
      "text/plain": [
       "array([138.1       ,  87.16438356,  99.48684211, 115.46153846,\n",
       "       147.55555556,  92.89230769, 175.05263158, 116.07042254,\n",
       "       100.05970149, 112.45945946, 102.08695652, 112.68055556,\n",
       "       233.13333333,  82.51898734, 129.32467532, 186.97435897,\n",
       "        85.13432836,  89.05714286, 133.64179104, 162.72972973,\n",
       "       238.05555556, 241.63888889, 224.61643836, 124.59722222,\n",
       "       187.90140845, 136.2987013 , 167.23287671,  98.84415584,\n",
       "       112.16666667, 124.91044776, 207.66666667, 155.17647059,\n",
       "       125.33333333,  73.44285714, 109.04      , 186.625     ,\n",
       "       142.19117647, 160.04166667, 152.32432432, 213.01538462,\n",
       "       111.62025316, 224.38157895,  95.05633803, 231.51470588,\n",
       "       172.0375    , 151.57534247, 101.49333333, 186.98684211,\n",
       "       232.0625    , 143.59036145, 101.79365079, 193.87837838,\n",
       "       106.63013699,  94.35483871, 205.86956522, 208.14516129,\n",
       "       145.87878788, 107.42465753, 173.27272727, 168.20895522,\n",
       "       191.625     , 170.87671233,  91.36619718, 178.6056338 ,\n",
       "       128.63380282, 139.70588235, 100.45945946, 176.        ,\n",
       "       159.48387097, 218.93902439, 236.67142857, 143.77941176,\n",
       "       124.11538462, 227.55714286, 186.35294118, 160.78947368,\n",
       "       151.52054795, 134.71621622,  97.43055556, 206.06578947,\n",
       "       184.63513514, 128.66233766, 123.78082192,  80.2972973 ,\n",
       "       222.7826087 , 225.54929577, 102.21333333, 272.92753623,\n",
       "       228.31343284])"
      ]
     },
     "execution_count": 347,
     "metadata": {},
     "output_type": "execute_result"
    }
   ],
   "source": [
    "leaves_arr"
   ]
  },
  {
   "cell_type": "code",
   "execution_count": 348,
   "metadata": {},
   "outputs": [
    {
     "data": {
      "text/plain": [
       "array([28.4742268 , 20.86229508, 21.12011173, 24.87845304, 34.94736842,\n",
       "       24.44534413, 35.95675676, 26.84364821, 25.4904943 , 23.77714286,\n",
       "       24.89045936, 27.04333333, 53.8       , 17.86027397, 28.69740634,\n",
       "       40.96629213, 21.85440613, 21.34931507, 32.7985348 , 37.86792453,\n",
       "       56.38157895, 57.60927152, 52.38658147, 29.12662338, 45.22372881,\n",
       "       30.42028986, 37.79566563, 20.5148248 , 26.56578947, 31.82129278,\n",
       "       51.35842294, 38.51094891, 30.99641577, 17.72758621, 24.4119403 ,\n",
       "       44.49337748, 35.81111111, 38.41      , 34.79012346, 56.05668016,\n",
       "       24.29201102, 50.45266272, 22.57190635, 57.87867647, 36.99731183,\n",
       "       35.57877814, 23.13677812, 42.0443787 , 62.93220339, 28.58033573,\n",
       "       27.76190476, 44.834375  , 24.09907121, 26.59090909, 50.91397849,\n",
       "       58.13063063, 38.512     , 25.54397394, 38.89795918, 42.85171103,\n",
       "       46.61148649, 39.6       , 21.69565217, 42.41137124, 30.34219269,\n",
       "       35.18518519, 23.52531646, 46.69387755, 44.54054054, 45.56598985,\n",
       "       58.33450704, 36.21111111, 26.59615385, 55.30902778, 46.58823529,\n",
       "       37.03030303, 34.45794393, 31.153125  , 23.54026846, 43.50277778,\n",
       "       42.16975309, 28.55043228, 28.50473186, 17.47647059, 53.93684211,\n",
       "       54.28474576, 22.88358209, 68.98168498, 56.866171  ])"
      ]
     },
     "execution_count": 348,
     "metadata": {},
     "output_type": "execute_result"
    }
   ],
   "source": [
    "leaves_arr_2"
   ]
  },
  {
   "cell_type": "code",
   "execution_count": null,
   "metadata": {},
   "outputs": [],
   "source": [
    "lis"
   ]
  },
  {
   "cell_type": "code",
   "execution_count": null,
   "metadata": {},
   "outputs": [],
   "source": []
  },
  {
   "cell_type": "code",
   "execution_count": 292,
   "metadata": {},
   "outputs": [
    {
     "ename": "IndexError",
     "evalue": "invalid index to scalar variable.",
     "output_type": "error",
     "traceback": [
      "\u001b[0;31m---------------------------------------------------------------------------\u001b[0m",
      "\u001b[0;31mIndexError\u001b[0m                                Traceback (most recent call last)",
      "Input \u001b[0;32mIn [292]\u001b[0m, in \u001b[0;36m<cell line: 3>\u001b[0;34m()\u001b[0m\n\u001b[1;32m      1\u001b[0m final_list\u001b[38;5;241m=\u001b[39m[]\n\u001b[1;32m      3\u001b[0m \u001b[38;5;28;01mfor\u001b[39;00m j \u001b[38;5;129;01min\u001b[39;00m \u001b[38;5;28mrange\u001b[39m(\u001b[38;5;28mlen\u001b[39m(X_test)):\n\u001b[0;32m----> 5\u001b[0m     final_list\u001b[38;5;241m.\u001b[39mappend(np\u001b[38;5;241m.\u001b[39mconcatenate([leaves_arr[i][j] \u001b[38;5;28;01mfor\u001b[39;00m i \u001b[38;5;129;01min\u001b[39;00m \u001b[38;5;28mrange\u001b[39m(n_estimators)]))\n",
      "Input \u001b[0;32mIn [292]\u001b[0m, in \u001b[0;36m<listcomp>\u001b[0;34m(.0)\u001b[0m\n\u001b[1;32m      1\u001b[0m final_list\u001b[38;5;241m=\u001b[39m[]\n\u001b[1;32m      3\u001b[0m \u001b[38;5;28;01mfor\u001b[39;00m j \u001b[38;5;129;01min\u001b[39;00m \u001b[38;5;28mrange\u001b[39m(\u001b[38;5;28mlen\u001b[39m(X_test)):\n\u001b[0;32m----> 5\u001b[0m     final_list\u001b[38;5;241m.\u001b[39mappend(np\u001b[38;5;241m.\u001b[39mconcatenate([\u001b[43mleaves_arr\u001b[49m\u001b[43m[\u001b[49m\u001b[43mi\u001b[49m\u001b[43m]\u001b[49m\u001b[43m[\u001b[49m\u001b[43mj\u001b[49m\u001b[43m]\u001b[49m \u001b[38;5;28;01mfor\u001b[39;00m i \u001b[38;5;129;01min\u001b[39;00m \u001b[38;5;28mrange\u001b[39m(n_estimators)]))\n",
      "\u001b[0;31mIndexError\u001b[0m: invalid index to scalar variable."
     ]
    }
   ],
   "source": [
    "final_list=[]\n",
    "\n",
    "for j in range(len(X_test)):\n",
    "\n",
    "    final_list.append(np.concatenate([leaves_arr[i][j] for i in range(n_estimators)]))\n"
   ]
  },
  {
   "cell_type": "code",
   "execution_count": 282,
   "metadata": {},
   "outputs": [
    {
     "data": {
      "text/plain": [
       "[1,\n",
       " 2,\n",
       " 1,\n",
       " 1,\n",
       " 2,\n",
       " 1,\n",
       " 0,\n",
       " 1,\n",
       " 2,\n",
       " 2,\n",
       " 1,\n",
       " 1,\n",
       " 1,\n",
       " 0,\n",
       " 0,\n",
       " 2,\n",
       " 1,\n",
       " 1,\n",
       " 1,\n",
       " 2,\n",
       " 1,\n",
       " 0,\n",
       " 0,\n",
       " 1,\n",
       " 0,\n",
       " 1,\n",
       " 0,\n",
       " 2,\n",
       " 1,\n",
       " 0,\n",
       " 1,\n",
       " 2,\n",
       " 2,\n",
       " 2,\n",
       " 2,\n",
       " 1]"
      ]
     },
     "execution_count": 282,
     "metadata": {},
     "output_type": "execute_result"
    }
   ],
   "source": [
    "[stats.mode(final_list[i])[0][0] for i in range(len(X_test))]"
   ]
  },
  {
   "cell_type": "code",
   "execution_count": 256,
   "metadata": {},
   "outputs": [
    {
     "data": {
      "text/plain": [
       "18"
      ]
     },
     "execution_count": 256,
     "metadata": {},
     "output_type": "execute_result"
    }
   ],
   "source": [
    "len(lis1)"
   ]
  },
  {
   "cell_type": "code",
   "execution_count": null,
   "metadata": {},
   "outputs": [],
   "source": []
  },
  {
   "cell_type": "code",
   "execution_count": 257,
   "metadata": {},
   "outputs": [
    {
     "ename": "AttributeError",
     "evalue": "'numpy.ndarray' object has no attribute 'y_vals'",
     "output_type": "error",
     "traceback": [
      "\u001b[0;31m---------------------------------------------------------------------------\u001b[0m",
      "\u001b[0;31mAttributeError\u001b[0m                            Traceback (most recent call last)",
      "Input \u001b[0;32mIn [257]\u001b[0m, in \u001b[0;36m<cell line: 3>\u001b[0;34m()\u001b[0m\n\u001b[1;32m      1\u001b[0m list_y_vals\u001b[38;5;241m=\u001b[39m[]\n\u001b[1;32m      3\u001b[0m \u001b[38;5;28;01mfor\u001b[39;00m i \u001b[38;5;129;01min\u001b[39;00m \u001b[38;5;28mrange\u001b[39m(n_estimators):\n\u001b[0;32m----> 5\u001b[0m     list_y_vals\u001b[38;5;241m.\u001b[39mappend([(leaf\u001b[38;5;241m.\u001b[39my_vals) \u001b[38;5;28;01mfor\u001b[39;00m leaf \u001b[38;5;129;01min\u001b[39;00m leaves_arr[i]])\n",
      "Input \u001b[0;32mIn [257]\u001b[0m, in \u001b[0;36m<listcomp>\u001b[0;34m(.0)\u001b[0m\n\u001b[1;32m      1\u001b[0m list_y_vals\u001b[38;5;241m=\u001b[39m[]\n\u001b[1;32m      3\u001b[0m \u001b[38;5;28;01mfor\u001b[39;00m i \u001b[38;5;129;01min\u001b[39;00m \u001b[38;5;28mrange\u001b[39m(n_estimators):\n\u001b[0;32m----> 5\u001b[0m     list_y_vals\u001b[38;5;241m.\u001b[39mappend([(\u001b[43mleaf\u001b[49m\u001b[38;5;241;43m.\u001b[39;49m\u001b[43my_vals\u001b[49m) \u001b[38;5;28;01mfor\u001b[39;00m leaf \u001b[38;5;129;01min\u001b[39;00m leaves_arr[i]])\n",
      "\u001b[0;31mAttributeError\u001b[0m: 'numpy.ndarray' object has no attribute 'y_vals'"
     ]
    }
   ],
   "source": [
    "list_y_vals=[]\n",
    "\n",
    "for i in range(n_estimators):\n",
    "\n",
    "    list_y_vals.append([(leaf.y_vals) for leaf in leaves_arr[i]])"
   ]
  },
  {
   "cell_type": "code",
   "execution_count": 258,
   "metadata": {},
   "outputs": [],
   "source": [
    "test_arr=np.array(list_y_vals)"
   ]
  },
  {
   "cell_type": "code",
   "execution_count": 259,
   "metadata": {},
   "outputs": [
    {
     "data": {
      "text/plain": [
       "array([], dtype=float64)"
      ]
     },
     "execution_count": 259,
     "metadata": {},
     "output_type": "execute_result"
    }
   ],
   "source": [
    "test_arr"
   ]
  },
  {
   "cell_type": "code",
   "execution_count": 137,
   "metadata": {},
   "outputs": [],
   "source": [
    "lis=[]\n",
    "\n",
    "for i in range(len(X_test)):\n",
    "\n",
    "    lis.append(np.concatenate(test_arr[:,i]))"
   ]
  },
  {
   "cell_type": "code",
   "execution_count": 140,
   "metadata": {},
   "outputs": [
    {
     "name": "stderr",
     "output_type": "stream",
     "text": [
      "/var/folders/_g/93vdh72j2bg48859p9w3jd1w0000gn/T/ipykernel_71778/1629953685.py:1: VisibleDeprecationWarning: Creating an ndarray from ragged nested sequences (which is a list-or-tuple of lists-or-tuples-or ndarrays with different lengths or shapes) is deprecated. If you meant to do this, you must specify 'dtype=object' when creating the ndarray.\n",
      "  final_arr=np.array(lis)\n"
     ]
    }
   ],
   "source": [
    "final_arr=np.array(lis)"
   ]
  },
  {
   "cell_type": "code",
   "execution_count": 148,
   "metadata": {},
   "outputs": [
    {
     "data": {
      "text/plain": [
       "array([0, 0, 0, 0, 0, 0, 0, 0, 0, 0, 0, 0, 1, 1, 1, 1, 1, 2, 0, 1, 0, 0,\n",
       "       0, 0, 0, 0, 0, 0, 0, 0, 1, 0, 1, 1, 1, 1, 0, 0, 0, 0, 0, 0, 0, 2,\n",
       "       1, 1, 1, 1, 1, 1, 1, 1, 0, 0, 0, 0, 0, 2, 2, 2, 1, 1, 1, 1, 1, 0,\n",
       "       0, 0, 0, 0, 0])"
      ]
     },
     "execution_count": 148,
     "metadata": {},
     "output_type": "execute_result"
    }
   ],
   "source": [
    "for i in "
   ]
  },
  {
   "cell_type": "code",
   "execution_count": 141,
   "metadata": {},
   "outputs": [
    {
     "data": {
      "text/plain": [
       "(36,)"
      ]
     },
     "execution_count": 141,
     "metadata": {},
     "output_type": "execute_result"
    }
   ],
   "source": [
    "final_arr.shape"
   ]
  },
  {
   "cell_type": "code",
   "execution_count": 142,
   "metadata": {},
   "outputs": [
    {
     "data": {
      "text/plain": [
       "array([array([2, 2, 2, 2, 2, 2, 2, 2, 2, 2, 2, 2, 2, 2, 2, 2, 2, 2, 2, 2, 2, 2,\n",
       "              2, 2, 2, 2, 2, 2, 2, 2, 2, 2, 2, 2, 2, 2, 2, 2, 2, 2, 2, 2, 2, 2,\n",
       "              2, 2, 2, 2, 2, 2, 2, 2, 2, 2, 2, 2, 2, 2, 2, 2, 2, 2, 2, 2, 2, 2,\n",
       "              2, 2, 2, 2, 2, 2, 2, 2])                                         ,\n",
       "       array([0, 0, 0, 0, 0, 0, 0, 0, 0, 0, 0, 0, 1, 1, 1, 1, 1, 2, 0, 1, 0, 0,\n",
       "              0, 0, 0, 0, 0, 0, 0, 0, 1, 0, 1, 1, 1, 1, 0, 0, 0, 0, 0, 0, 0, 2,\n",
       "              1, 1, 1, 1, 1, 1, 1, 1, 0, 0, 0, 0, 0, 2, 2, 2, 1, 1, 1, 1, 1, 0,\n",
       "              0, 0, 0, 0, 0])                                                  ,\n",
       "       array([1, 1, 1, 1, 1, 1, 1, 1, 1, 1, 0, 1, 0, 0, 0, 0, 0, 0, 1, 1, 1, 1,\n",
       "              1, 1, 1, 1, 1, 1, 1, 1, 1, 0, 0, 0, 0, 1, 1, 1, 1, 1, 1, 1, 1, 1,\n",
       "              0, 1, 1, 1, 1, 1, 1, 1, 1, 1, 1, 1, 1, 1, 1, 1, 0, 1, 1, 1])     ,\n",
       "       array([1, 1, 1, 1, 1, 1, 1, 1, 1, 2, 2, 1, 1, 1, 1, 1, 1, 1, 1, 1, 1, 1,\n",
       "              1, 1, 1, 1, 1, 1, 1, 1, 1, 1, 1, 1, 1, 1, 1, 1, 1, 1, 1, 1, 1, 1,\n",
       "              1, 1, 0, 1, 1, 1, 1, 1, 1, 1, 1, 1, 1, 1, 1, 1, 1, 1, 1, 1, 1, 1,\n",
       "              1, 1, 1, 1])                                                     ,\n",
       "       array([0, 0, 0, 0, 0, 0, 0, 0, 0, 0, 0, 0, 0, 0, 0, 1, 1, 1, 1, 0, 0, 0,\n",
       "              0, 0, 0, 0, 0, 0, 0, 0, 0, 0, 0, 0, 0, 0, 0, 0, 0, 0, 0, 0, 0, 0,\n",
       "              0, 0, 0, 0, 0, 0, 0, 0, 0, 0, 0, 0, 0, 0, 0, 0, 0, 0, 0, 0, 0, 0,\n",
       "              0, 1, 1, 0, 0, 0, 0, 0])                                         ,\n",
       "       array([2, 2, 2, 2, 1, 1, 1, 2, 2, 2, 2, 2, 2, 2, 2, 2, 2, 2, 2, 2, 2, 2,\n",
       "              2, 2, 2, 2, 2, 2, 1, 2, 2, 2, 2, 2, 2, 2, 2, 2, 1, 2, 2, 2, 2, 2,\n",
       "              2, 2, 2, 2, 2, 2, 2, 2, 2, 2, 2, 2, 2, 2, 2, 2, 2, 2, 1, 1, 1, 1,\n",
       "              1, 1])                                                           ,\n",
       "       array([1, 1, 1, 1, 1, 1, 1, 0, 0, 0, 1, 1, 0, 1, 1, 1, 1, 1, 1, 1, 1, 1,\n",
       "              1, 1, 1, 1, 1, 1, 1, 1, 1, 2, 1, 1, 2, 1, 1, 1, 1, 1, 1, 1, 2, 2,\n",
       "              2, 2, 2, 2, 2, 2, 1, 1, 1, 1, 2, 1, 0, 0, 1, 0, 0, 0, 2, 1, 2, 1,\n",
       "              1, 1, 1, 0])                                                     ,\n",
       "       array([0, 0, 0, 0, 0, 0, 0, 0, 0, 1, 0, 1, 0, 0, 0, 0, 0, 0, 0, 0, 0, 0,\n",
       "              0, 0, 0, 0, 0, 0, 0, 0, 0, 0, 0, 0, 0, 0, 0, 0, 0, 0, 0, 0, 0, 0,\n",
       "              0, 0, 0, 0, 0, 0, 0, 0, 0, 0, 0, 0, 0, 0, 0, 0, 0, 0, 0, 0, 0, 0,\n",
       "              0, 0, 0, 0, 0, 0, 1, 1, 0, 0, 0, 0])                             ,\n",
       "       array([2, 2, 2, 2, 2, 2, 2, 2, 2, 2, 2, 2, 2, 2, 2, 2, 2, 2, 0, 1, 0, 2,\n",
       "              2, 2, 2, 2, 2, 2, 2, 2, 2, 2, 1, 1, 1, 1, 2, 2, 2, 2, 2, 2, 2, 2,\n",
       "              2, 2, 0, 0, 2, 2, 2, 2, 2, 2, 2, 2, 2, 2, 2, 2, 2, 2, 2, 2, 2, 2,\n",
       "              1, 1, 0, 2, 2, 2, 2, 2])                                         ,\n",
       "       array([0, 0, 0, 0, 0, 0, 1, 1, 1, 0, 0, 0, 0, 1, 1, 1, 1, 1, 1, 1, 1, 1,\n",
       "              1, 1, 1, 1, 1, 1, 1, 1, 1, 0, 0, 0, 1, 1, 1, 1, 0, 0, 0, 0, 0, 0,\n",
       "              1, 1, 1, 1, 1, 2, 2, 2, 2, 0, 0, 0, 1, 1, 1, 1, 1, 1, 1, 1, 1])  ,\n",
       "       array([1, 1, 1, 1, 1, 1, 1, 1, 1, 2, 2, 1, 1, 1, 1, 1, 1, 1, 1, 1, 1, 1,\n",
       "              1, 1, 1, 1, 1, 1, 1, 1, 1, 1, 1, 1, 1, 1, 1, 1, 1, 1, 1, 1, 1, 1,\n",
       "              1, 1, 1, 1, 1, 1, 1, 1, 1, 1, 1, 1, 1, 1, 1, 1, 1, 1, 1, 1, 1])  ,\n",
       "       array([0, 0, 0, 1, 2, 1, 1, 0, 0, 0, 0, 0, 0, 0, 0, 0, 1, 1, 1, 1, 2, 2,\n",
       "              2, 2, 2, 0, 0, 0, 1, 1, 1, 1, 1, 1, 2, 2, 2, 1, 1, 1, 1, 0, 0, 0,\n",
       "              0, 0, 0, 0, 0, 1, 1, 1, 2, 2, 2, 2, 0, 0, 0, 0, 0, 0, 2, 2, 1, 1,\n",
       "              2, 1, 1, 1])                                                     ,\n",
       "       array([2, 2, 2, 2, 2, 2, 2, 2, 2, 2, 1, 1, 2, 2, 2, 2, 2, 2, 2, 2, 2, 1,\n",
       "              2, 1, 2, 2, 2, 2, 2, 2, 2, 2, 2, 2, 2, 2, 2, 2, 2, 2, 2, 2, 1, 2,\n",
       "              1, 1, 2, 2, 2, 2, 2, 2, 2, 2, 2, 2, 2, 2, 2, 2, 2, 2, 2, 2, 2, 2,\n",
       "              2, 2, 2, 2, 2])                                                  ,\n",
       "       array([0, 0, 0, 0, 0, 0, 1, 0, 1, 0, 0, 0, 0, 2, 0, 1, 0, 0, 0, 0, 0, 0,\n",
       "              0, 0, 0, 0, 0, 0, 0, 0, 0, 0, 0, 0, 0, 0, 0, 0, 0, 0, 0, 0, 0, 0,\n",
       "              0, 0, 0, 0, 0, 0, 0, 0, 0, 0, 0, 0, 0, 0, 0, 0, 0, 0, 0, 0, 0])  ,\n",
       "       array([0, 0, 0, 0, 0, 0, 0, 0, 0, 0, 0, 0, 0, 0, 0, 0, 1, 1, 1, 1, 0, 0,\n",
       "              0, 0, 0, 0, 0, 0, 0, 0, 0, 0, 0, 0, 1, 1, 0, 0, 0, 0, 0, 0, 2, 0,\n",
       "              0, 0, 0, 0, 0, 0, 0, 0, 0, 0, 0, 0, 0, 0, 2, 2, 2, 0, 0, 0, 0, 0,\n",
       "              0, 0, 0, 0, 0, 0, 0, 0])                                         ,\n",
       "       array([1, 1, 1, 1, 1, 1, 1, 1, 1, 1, 1, 1, 1, 1, 1, 1, 1, 1, 1, 1, 1, 1,\n",
       "              1, 1, 1, 1, 1, 1, 1, 1, 1, 1, 1, 1, 0, 1, 1, 1, 0, 1, 1, 1, 0, 0,\n",
       "              0, 1, 1, 1, 1, 1, 1, 1, 1, 1, 1, 1, 1, 1, 1, 1, 1, 1, 1, 1, 1, 1,\n",
       "              1, 1])                                                           ,\n",
       "       array([0, 0, 0, 0, 0, 0, 0, 0, 0, 0, 0, 0, 0, 0, 0, 0, 0, 0, 0, 0, 0, 0,\n",
       "              0, 0, 0, 0, 0, 0, 0, 0, 0, 0, 0, 0, 0, 0, 0, 0, 0, 0, 0, 0, 0, 0,\n",
       "              0, 0, 0, 0, 0, 0, 0, 0, 0, 0, 0, 0, 0, 0, 0, 0, 0, 0, 0, 0, 0])  ,\n",
       "       array([2, 2, 2, 2, 2, 2, 2, 2, 2, 2, 2, 2, 2, 2, 2, 2, 2, 2, 2, 2, 2, 2,\n",
       "              2, 2, 2, 2, 2, 2, 1, 2, 2, 2, 2, 2, 2, 1, 1, 2, 2, 2, 2, 2, 2, 2,\n",
       "              2, 2, 2, 2, 2, 2, 2, 2, 2, 2, 2, 2, 2, 1, 1, 1, 1, 2, 1, 0, 0, 1,\n",
       "              2, 2, 2, 2, 2, 1, 2, 1, 2, 2, 2, 2, 2])                          ,\n",
       "       array([0, 0, 0, 0, 0, 0, 0, 0, 0, 0, 0, 0, 0, 0, 0, 0, 0, 0, 0, 0, 0, 0,\n",
       "              0, 0, 0, 0, 0, 0, 0, 0, 0, 0, 0, 0, 0, 0, 0, 2, 0, 0, 0, 0, 0, 0,\n",
       "              0, 0, 0, 0, 0, 0, 0, 2, 2, 2, 0, 0, 0, 0, 0, 0, 0, 0, 0, 0])     ,\n",
       "       array([0, 0, 0, 0, 0, 0, 0, 0, 0, 0, 0, 0, 0, 0, 0, 0, 0, 0, 0, 0, 0, 0,\n",
       "              0, 0, 0, 0, 0, 0, 0, 0, 0, 0, 0, 1, 0, 0, 0, 0, 0, 0, 0, 0, 0, 0,\n",
       "              0, 0, 0, 0, 0, 0, 0, 0, 0, 0, 0, 0, 0, 0, 0, 0, 0, 0, 0, 0, 0, 0,\n",
       "              0, 0, 0, 0, 0, 0, 0, 0, 0, 0])                                   ,\n",
       "       array([0, 0, 0, 1, 1, 2, 1, 0, 1, 0, 0, 0, 0, 0, 0, 0, 1, 0, 0, 0, 0, 0,\n",
       "              0, 0, 0, 0, 1, 1, 0, 0, 0, 0, 0, 0, 1, 1, 1, 1, 1, 1, 1, 1, 1, 1,\n",
       "              1, 0, 1, 1, 1, 1, 1, 1, 1, 1, 1, 0, 1, 0, 0, 0, 0, 0, 0, 0, 0, 0,\n",
       "              0, 0, 0, 0, 0])                                                  ,\n",
       "       array([1, 1, 1, 1, 1, 1, 1, 1, 1, 1, 1, 0, 1, 1, 1, 0, 1, 1, 1, 1, 1, 1,\n",
       "              1, 1, 1, 1, 1, 1, 1, 1, 1, 1, 1, 0, 0, 0, 1, 1, 1, 1, 1, 1, 1, 1,\n",
       "              1, 1, 1, 1, 1, 1, 1, 1, 1, 1, 1, 0, 0, 0, 0, 0, 0, 0, 0, 1, 1, 1]),\n",
       "       array([1, 1, 1, 1, 1, 1, 0, 0, 0, 1, 2, 2, 2, 1, 1, 1, 1, 1, 1, 1, 1, 1,\n",
       "              1, 1, 1, 1, 1, 1, 1, 1, 1, 1, 1, 1, 1, 1, 1, 1, 1, 1, 1, 1, 1, 1,\n",
       "              1, 1, 1, 1, 1, 1, 1, 1, 1, 1, 1, 0, 0, 0, 0, 0, 1, 1, 1, 1, 1, 1,\n",
       "              1, 1, 1])                                                        ,\n",
       "       array([0, 0, 0, 1, 1, 1, 1, 1, 1, 1, 1, 1, 1, 1, 1, 1, 1, 1, 1, 1, 1, 1,\n",
       "              1, 1, 1, 1, 1, 1, 1, 1, 1, 1, 1, 1, 1, 1, 1, 1, 1, 1, 1, 1, 1, 1,\n",
       "              1, 2, 2, 2, 2, 1, 1, 1, 1, 1, 1, 1, 1, 1, 1, 1, 1, 1, 1, 1])     ,\n",
       "       array([0, 0, 0, 0, 0, 0, 0, 0, 0, 0, 0, 0, 0, 0, 0, 0, 0, 0, 0, 0, 0, 0,\n",
       "              0, 0, 0, 0, 0, 0, 0, 0, 0, 0, 0, 0, 0, 0, 0, 0, 0, 0, 0, 0, 0, 0,\n",
       "              0, 0, 0, 0, 0, 0, 0, 0, 0, 0, 0, 0, 0, 0, 0, 0, 0, 0, 0, 0, 0])  ,\n",
       "       array([1, 1, 1, 1, 1, 1, 1, 1, 1, 1, 1, 1, 1, 1, 1, 0, 0, 0, 0, 0, 0, 1,\n",
       "              1, 1, 1, 1, 1, 1, 1, 1, 1, 1, 1, 1, 1, 1, 1, 1, 1, 1, 1, 1, 1, 1,\n",
       "              1, 1, 1, 1, 1, 1, 1, 1, 1, 1, 1, 1, 1, 1, 1, 1, 1, 0, 0, 0, 0, 0,\n",
       "              1, 1, 1, 1, 1, 1, 1])                                            ,\n",
       "       array([2, 2, 2, 2, 2, 2, 2, 2, 2, 2, 2, 2, 2, 2, 2, 2, 2, 2, 2, 2, 2, 2,\n",
       "              2, 2, 2, 2, 2, 2, 2, 1, 2, 1, 2, 2, 2, 2, 2, 2, 1, 1, 2, 2, 2, 2,\n",
       "              2, 2, 2, 2, 2, 2, 2, 2, 2, 2, 2, 2, 2, 2, 2, 2, 2, 2, 2, 2, 2, 2,\n",
       "              2, 2, 1, 2, 1, 2, 2, 2, 2, 2])                                   ,\n",
       "       array([1, 1, 1, 1, 1, 1, 1, 1, 1, 1, 1, 2, 2, 2, 2, 2, 1, 1, 1, 1, 1, 1,\n",
       "              1, 1, 1, 2, 1, 1, 1, 1, 2, 1, 1, 2, 1, 1, 1, 1, 1, 1, 1, 2, 2, 2,\n",
       "              1, 2, 2, 1, 1, 1, 1, 1, 1, 2, 2, 2, 2, 2, 2, 2, 1, 2, 1, 2, 2, 2,\n",
       "              2])                                                              ,\n",
       "       array([1, 2, 0, 1, 2, 2, 2, 2, 2, 2, 2, 2, 2, 2, 2, 2, 2, 2, 2, 2, 2, 2,\n",
       "              2, 2, 2, 2, 2, 2, 2, 2, 2, 2, 2, 2, 1, 1, 2, 2, 2, 2, 2, 2, 2, 2,\n",
       "              2, 2, 2, 2, 2, 2, 2, 2, 2, 2, 2, 2, 2, 2, 2, 2, 2, 2, 2, 2, 1, 2,\n",
       "              1, 2, 2, 2, 2, 2])                                               ,\n",
       "       array([0, 0, 0, 0, 0, 0, 0, 0, 0, 0, 0, 0, 0, 0, 0, 0, 0, 0, 0, 0, 0, 0,\n",
       "              0, 0, 0, 0, 0, 0, 0, 0, 0, 0, 0, 0, 0, 0, 0, 0, 0, 0, 0, 0, 0, 0,\n",
       "              0, 0, 0, 0, 0, 0, 0, 0, 0, 0, 0, 0, 0, 0, 0, 0, 0, 0, 0, 0, 0, 0,\n",
       "              0, 0])                                                           ,\n",
       "       array([0, 0, 0, 0, 0, 0, 0, 0, 0, 0, 0, 0, 0, 0, 0, 0, 0, 0, 0, 0, 0, 0,\n",
       "              0, 0, 0, 0, 0, 0, 0, 0, 0, 0, 0, 0, 0, 0, 0, 0, 0, 0, 0, 0, 0, 0,\n",
       "              0, 0, 0, 0, 0, 0, 0, 0, 0, 0, 0, 0, 0, 0, 0, 0, 0, 0, 0, 0, 0, 0,\n",
       "              0, 0, 0, 0, 0])                                                  ,\n",
       "       array([0, 0, 0, 0, 0, 0, 0, 0, 0, 0, 0, 0, 1, 1, 0, 0, 0, 0, 0, 0, 0, 0,\n",
       "              0, 1, 1, 1, 0, 0, 0, 0, 0, 1, 1, 0, 0, 0, 0, 0, 0, 0, 0, 0, 0, 0,\n",
       "              0, 0, 1, 0, 0, 0, 0, 0, 0, 0, 1, 0, 0, 0, 1, 0, 0, 0, 0, 0, 0, 0,\n",
       "              0, 0])                                                           ,\n",
       "       array([1, 1, 1, 1, 1, 1, 1, 1, 1, 1, 1, 1, 1, 1, 1, 1, 1, 1, 1, 1, 1, 1,\n",
       "              1, 1, 1, 1, 1, 1, 1, 1, 1, 1, 1, 1, 1, 1, 1, 1, 1, 1, 1, 1, 1, 1,\n",
       "              1, 0, 1, 0, 1, 1, 1, 1, 1, 1, 1, 1, 1, 1, 1, 0, 0, 0, 0, 0, 1, 1,\n",
       "              1, 1, 1, 1])                                                     ,\n",
       "       array([0, 0, 0, 1, 1, 1, 1, 0, 1, 1, 1, 1, 1, 1, 1, 1, 1, 1, 0, 0, 0, 0,\n",
       "              0, 0, 0, 0, 1, 1, 1, 1, 1, 1, 1, 1, 1, 1, 1, 1, 1, 1, 1, 1, 1, 1,\n",
       "              0, 0, 1, 1, 1, 1, 1, 1, 1, 1, 1, 1, 1, 1, 1, 1, 1, 1, 1, 1, 1, 1,\n",
       "              1, 1, 1, 1, 1])                                                  ,\n",
       "       array([0, 0, 0, 0, 0, 2, 2, 2, 2, 2, 2, 2, 2, 2, 2, 2, 2, 2, 2, 2, 2, 2,\n",
       "              2, 2, 2, 2, 2, 2, 2, 2, 2, 0, 0, 0, 2, 2, 2, 2, 2, 2, 2, 2, 2, 2,\n",
       "              2, 2, 2, 2, 2, 2, 2, 2, 2, 2, 2, 2, 2, 2, 2, 1, 0, 0, 1, 2, 2, 2,\n",
       "              1, 1, 1, 1, 2, 2, 2, 2])                                         ,\n",
       "       array([2, 1, 1, 2, 1, 1, 2, 2, 2, 1, 1, 1, 1, 1, 1, 1, 1, 1, 1, 0, 0, 0,\n",
       "              0, 1, 1, 1, 1, 1, 0, 0, 0, 0, 1, 1, 1, 1, 1, 1, 1, 1, 1, 1, 1, 1,\n",
       "              1, 1, 1, 1, 1, 1, 1, 1, 1, 1, 1, 1, 1, 1, 1, 1, 1, 1, 1, 1, 1, 1,\n",
       "              1, 1, 1, 1, 1])                                                  ],\n",
       "      dtype=object)"
      ]
     },
     "execution_count": 142,
     "metadata": {},
     "output_type": "execute_result"
    }
   ],
   "source": [
    "final_arr"
   ]
  },
  {
   "cell_type": "code",
   "execution_count": 89,
   "metadata": {},
   "outputs": [
    {
     "data": {
      "text/plain": [
       "[array([2, 2, 2, 2, 2]),\n",
       " array([0, 0, 0]),\n",
       " array([1, 1, 1, 1, 1, 1]),\n",
       " array([1, 1, 1, 1, 1, 1]),\n",
       " array([0, 0, 0]),\n",
       " array([2, 2, 2, 2]),\n",
       " array([1, 1, 1, 1]),\n",
       " array([0, 0, 0]),\n",
       " array([2, 2, 2, 2]),\n",
       " array([0, 0, 0]),\n",
       " array([1, 1, 1, 1, 1, 1]),\n",
       " array([0, 0, 0]),\n",
       " array([2, 2, 2, 2]),\n",
       " array([0, 0, 0]),\n",
       " array([0, 0, 0]),\n",
       " array([1, 1, 1, 1, 1]),\n",
       " array([0, 0, 0]),\n",
       " array([2, 2, 2, 2]),\n",
       " array([0, 0, 0]),\n",
       " array([0, 0, 0]),\n",
       " array([0, 0, 0]),\n",
       " array([1, 1, 1, 1, 1, 1]),\n",
       " array([1, 1, 1, 1, 1, 1]),\n",
       " array([0, 0, 0]),\n",
       " array([0, 0, 0]),\n",
       " array([1, 1, 1, 1, 1, 1]),\n",
       " array([2, 2, 2, 2, 2]),\n",
       " array([1, 1, 1, 1]),\n",
       " array([1, 2, 0, 1]),\n",
       " array([0, 0, 0]),\n",
       " array([0, 0, 0]),\n",
       " array([0, 0, 0, 0, 0]),\n",
       " array([1, 1, 1, 1, 1, 1]),\n",
       " array([0, 0, 0]),\n",
       " array([0, 0, 0, 0, 0]),\n",
       " array([2, 1, 1, 2])]"
      ]
     },
     "execution_count": 89,
     "metadata": {},
     "output_type": "execute_result"
    }
   ],
   "source": [
    "leaves_ele_list"
   ]
  },
  {
   "cell_type": "code",
   "execution_count": 92,
   "metadata": {},
   "outputs": [
    {
     "name": "stderr",
     "output_type": "stream",
     "text": [
      "/var/folders/_g/93vdh72j2bg48859p9w3jd1w0000gn/T/ipykernel_71778/587811388.py:1: VisibleDeprecationWarning: Creating an ndarray from ragged nested sequences (which is a list-or-tuple of lists-or-tuples-or ndarrays with different lengths or shapes) is deprecated. If you meant to do this, you must specify 'dtype=object' when creating the ndarray.\n",
      "  np.shape(np.array(list_y_vals))\n"
     ]
    },
    {
     "data": {
      "text/plain": [
       "(18, 36)"
      ]
     },
     "execution_count": 92,
     "metadata": {},
     "output_type": "execute_result"
    }
   ],
   "source": [
    "np.shape(np.array(list_y_vals))"
   ]
  },
  {
   "cell_type": "code",
   "execution_count": 100,
   "metadata": {},
   "outputs": [
    {
     "data": {
      "text/plain": [
       "0"
      ]
     },
     "execution_count": 100,
     "metadata": {},
     "output_type": "execute_result"
    }
   ],
   "source": [
    "stats.mode(np.concatenate(list_y_vals[0]))[0][0]"
   ]
  },
  {
   "cell_type": "code",
   "execution_count": 103,
   "metadata": {},
   "outputs": [
    {
     "data": {
      "text/plain": [
       "1"
      ]
     },
     "execution_count": 103,
     "metadata": {},
     "output_type": "execute_result"
    }
   ],
   "source": [
    "stats.mode([1,1,2,2])[0][0]"
   ]
  },
  {
   "cell_type": "code",
   "execution_count": null,
   "metadata": {},
   "outputs": [],
   "source": []
  }
 ],
 "metadata": {
  "kernelspec": {
   "display_name": "Python 3 (ipykernel)",
   "language": "python",
   "name": "python3"
  },
  "language_info": {
   "codemirror_mode": {
    "name": "ipython",
    "version": 3
   },
   "file_extension": ".py",
   "mimetype": "text/x-python",
   "name": "python",
   "nbconvert_exporter": "python",
   "pygments_lexer": "ipython3",
   "version": "3.9.12"
  },
  "vscode": {
   "interpreter": {
    "hash": "6883d37eeb2045ba04031ed486dc9fc4f709416fdebef4e7f812e71010120863"
   }
  }
 },
 "nbformat": 4,
 "nbformat_minor": 4
}
