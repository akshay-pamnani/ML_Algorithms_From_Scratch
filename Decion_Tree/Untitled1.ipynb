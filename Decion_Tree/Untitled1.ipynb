{
 "cells": [
  {
   "cell_type": "code",
   "execution_count": 52,
   "id": "5dce81fa-33bb-4eae-bb97-0ea29ccef798",
   "metadata": {},
   "outputs": [
    {
     "name": "stdout",
     "output_type": "stream",
     "text": [
      "\u001b[1m============================= test session starts ==============================\u001b[0m\n",
      "platform darwin -- Python 3.9.12, pytest-7.1.1, pluggy-1.0.0\n",
      "rootdir: /Users/akshaypamnani/Desktop/USF-MSDS 2022_Academics/Machine Learning/ML_HW3\n",
      "plugins: anyio-3.5.0\n",
      "collected 7 items                                                              \u001b[0m\u001b[1m\n",
      "\n",
      "test_dtree.py \u001b[32m.\u001b[0m\u001b[32m.\u001b[0m\u001b[32m.\u001b[0m\u001b[32m.\u001b[0m\u001b[32m.\u001b[0m\u001b[32m.\u001b[0m\u001b[32m.\u001b[0m\u001b[33m                                                    [100%]\u001b[0m\n",
      "\n",
      "\u001b[33m=============================== warnings summary ===============================\u001b[0m\n",
      "test_dtree.py::test_boston\n",
      "test_dtree.py::test_boston_min_samples_leaf\n",
      "  /Users/akshaypamnani/opt/anaconda3/lib/python3.9/site-packages/sklearn/utils/deprecation.py:87: FutureWarning: Function load_boston is deprecated; `load_boston` is deprecated in 1.0 and will be removed in 1.2.\n",
      "  \n",
      "      The Boston housing prices dataset has an ethical problem. You can refer to\n",
      "      the documentation of this function for further details.\n",
      "  \n",
      "      The scikit-learn maintainers therefore strongly discourage the use of this\n",
      "      dataset unless the purpose of the code is to study and educate about\n",
      "      ethical issues in data science and machine learning.\n",
      "  \n",
      "      In this special case, you can fetch the dataset from the original\n",
      "      source::\n",
      "  \n",
      "          import pandas as pd\n",
      "          import numpy as np\n",
      "  \n",
      "  \n",
      "          data_url = \"http://lib.stat.cmu.edu/datasets/boston\"\n",
      "          raw_df = pd.read_csv(data_url, sep=\"\\s+\", skiprows=22, header=None)\n",
      "          data = np.hstack([raw_df.values[::2, :], raw_df.values[1::2, :2]])\n",
      "          target = raw_df.values[1::2, 2]\n",
      "  \n",
      "      Alternative datasets include the California housing dataset (i.e.\n",
      "      :func:`~sklearn.datasets.fetch_california_housing`) and the Ames housing\n",
      "      dataset. You can load the datasets as follows::\n",
      "  \n",
      "          from sklearn.datasets import fetch_california_housing\n",
      "          housing = fetch_california_housing()\n",
      "  \n",
      "      for the California housing dataset and::\n",
      "  \n",
      "          from sklearn.datasets import fetch_openml\n",
      "          housing = fetch_openml(name=\"house_prices\", as_frame=True)\n",
      "  \n",
      "      for the Ames housing dataset.\n",
      "      \n",
      "    warnings.warn(msg, category=FutureWarning)\n",
      "\n",
      "-- Docs: https://docs.pytest.org/en/stable/how-to/capture-warnings.html\n",
      "\u001b[33m======================== \u001b[32m7 passed\u001b[0m, \u001b[33m\u001b[1m2 warnings\u001b[0m\u001b[33m in 21.71s\u001b[0m\u001b[33m ========================\u001b[0m\n"
     ]
    }
   ],
   "source": [
    "!pytest"
   ]
  },
  {
   "cell_type": "code",
   "execution_count": null,
   "id": "89367d66-9661-4bfa-9960-303b2c1aec37",
   "metadata": {},
   "outputs": [],
   "source": []
  }
 ],
 "metadata": {
  "kernelspec": {
   "display_name": "Python 3 (ipykernel)",
   "language": "python",
   "name": "python3"
  },
  "language_info": {
   "codemirror_mode": {
    "name": "ipython",
    "version": 3
   },
   "file_extension": ".py",
   "mimetype": "text/x-python",
   "name": "python",
   "nbconvert_exporter": "python",
   "pygments_lexer": "ipython3",
   "version": "3.9.12"
  }
 },
 "nbformat": 4,
 "nbformat_minor": 5
}
