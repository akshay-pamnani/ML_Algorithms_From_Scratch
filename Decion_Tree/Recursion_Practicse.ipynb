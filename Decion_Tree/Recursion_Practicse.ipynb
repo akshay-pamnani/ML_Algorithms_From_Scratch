{
 "cells": [
  {
   "cell_type": "code",
   "execution_count": 4,
   "id": "a1133078-e800-477d-89d8-74b9c3b20db8",
   "metadata": {},
   "outputs": [],
   "source": [
    "from lolviz import *\n",
    "\n",
    "\n",
    "def factorial(x):\n",
    "    if x==1:\n",
    "        return 1\n",
    "    else:\n",
    "        return x*factorial(x-1)"
   ]
  },
  {
   "cell_type": "code",
   "execution_count": 5,
   "id": "3e1bbf46-e767-4de8-8b9b-d9d98f329967",
   "metadata": {},
   "outputs": [
    {
     "data": {
      "text/plain": [
       "120"
      ]
     },
     "execution_count": 5,
     "metadata": {},
     "output_type": "execute_result"
    }
   ],
   "source": [
    "factorial(5)"
   ]
  },
  {
   "cell_type": "code",
   "execution_count": null,
   "id": "416ff382-6726-4afd-a164-4a31bbb55cbd",
   "metadata": {},
   "outputs": [],
   "source": []
  }
 ],
 "metadata": {
  "kernelspec": {
   "display_name": "Python 3 (ipykernel)",
   "language": "python",
   "name": "python3"
  },
  "language_info": {
   "codemirror_mode": {
    "name": "ipython",
    "version": 3
   },
   "file_extension": ".py",
   "mimetype": "text/x-python",
   "name": "python",
   "nbconvert_exporter": "python",
   "pygments_lexer": "ipython3",
   "version": "3.9.12"
  }
 },
 "nbformat": 4,
 "nbformat_minor": 5
}
